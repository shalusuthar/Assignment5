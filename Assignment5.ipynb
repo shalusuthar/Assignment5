{
 "cells": [
  {
   "cell_type": "markdown",
   "id": "d2bf547c-3e1d-4713-8152-81d0a4be1336",
   "metadata": {},
   "source": [
    "Q1, Create a vehicle class with an init method having instance variables as name_of_vehicle, max_speed\n",
    "and average_of_vehicle."
   ]
  },
  {
   "cell_type": "code",
   "execution_count": 10,
   "id": "b1007f0b-328a-465a-97af-ea70d4a0dd7c",
   "metadata": {},
   "outputs": [],
   "source": [
    "class vehicle :\n",
    "    \n",
    "    def __init__(self, name_of_vehicle, max_speed , average_of_vehicle):\n",
    "        \n",
    "        self.name_of_vehicle = name_of_vehicle\n",
    "        self.max_speed = max_speed\n",
    "        self.average_of_vehicle = average_of_vehicle\n",
    "        \n",
    "    @classmethod\n",
    "    def details(cls , name_of_vehicle , max_speed , average_of_vehicle):\n",
    "        return cls(name_of_vehicle , max_speed , average_of_vehicle)\n",
    "    \n",
    "    def vehicle_details(self):\n",
    "        print(self.name_of_vehicle , self.max_speed , self.average_of_vehicle)\n",
    "    "
   ]
  },
  {
   "cell_type": "code",
   "execution_count": 11,
   "id": "66e68614-1537-4422-8fd6-0ba64a28f51e",
   "metadata": {},
   "outputs": [],
   "source": [
    "v = vehicle.details(\"alto\" , 100 , 17)"
   ]
  },
  {
   "cell_type": "code",
   "execution_count": 12,
   "id": "2930392b-7bad-4301-9d84-51a055d6ccd9",
   "metadata": {},
   "outputs": [
    {
     "data": {
      "text/plain": [
       "'alto'"
      ]
     },
     "execution_count": 12,
     "metadata": {},
     "output_type": "execute_result"
    }
   ],
   "source": [
    "v.name_of_vehicle"
   ]
  },
  {
   "cell_type": "code",
   "execution_count": 13,
   "id": "1330334e-61d3-4f0d-942e-fb0397b84c50",
   "metadata": {},
   "outputs": [
    {
     "data": {
      "text/plain": [
       "100"
      ]
     },
     "execution_count": 13,
     "metadata": {},
     "output_type": "execute_result"
    }
   ],
   "source": [
    "v.max_speed"
   ]
  },
  {
   "cell_type": "code",
   "execution_count": 14,
   "id": "883bcf95-3fc3-4d7b-9241-b998466d6aab",
   "metadata": {},
   "outputs": [
    {
     "data": {
      "text/plain": [
       "17"
      ]
     },
     "execution_count": 14,
     "metadata": {},
     "output_type": "execute_result"
    }
   ],
   "source": [
    "v.average_of_vehicle"
   ]
  },
  {
   "cell_type": "code",
   "execution_count": null,
   "id": "87f7f282-b924-425f-9765-b21616adb6bf",
   "metadata": {},
   "outputs": [],
   "source": []
  },
  {
   "cell_type": "code",
   "execution_count": null,
   "id": "2c588494-d835-4fba-9ef1-1bf65caa6eda",
   "metadata": {},
   "outputs": [],
   "source": []
  },
  {
   "cell_type": "markdown",
   "id": "b1960280-d017-462f-acef-b3fcfb161a0e",
   "metadata": {},
   "source": [
    "Q2. Create a child class car from the vehicle class created in Que 1, which will inherit the vehicle class.\n",
    "Create a method named seating_capacity which takes capacity as an argument and returns the name of\n",
    "the vehicle and its seating capacity."
   ]
  },
  {
   "cell_type": "code",
   "execution_count": 20,
   "id": "53ab3636-fe5c-4ad6-a94f-5ac006182f77",
   "metadata": {},
   "outputs": [],
   "source": [
    "class vehicle:\n",
    "    \n",
    "    def __init__(self, name_of_vehicle, max_speed , average_of_vehicle):\n",
    "        \n",
    "        self.name_of_vehicle = name_of_vehicle\n",
    "        self.max_speed = max_speed\n",
    "        self.average_of_vehicle = average_of_vehicle\n",
    "    \n",
    "    def vehicle_details(self):\n",
    "        print(self.name , self.max_speed , self.average_of_vehicle)\n",
    "        \n",
    "    #child class\n",
    "    class car(vehicle):\n",
    "        def __init__(self , name_of_vehicle , seating_capacity):\n",
    "            self.sname_of_vehicle = name_of_vehicle\n",
    "            self.seating_capacity = seating_capacity\n",
    "            #inheriting the properties of parent class\n",
    "            super().__init__(\"alto\")\n",
    "            \n",
    "        def detailss(self):\n",
    "            print(self.sname_of_vehicle , self.seating_capacity)\n",
    "            "
   ]
  },
  {
   "cell_type": "code",
   "execution_count": 21,
   "id": "e636873b-4c27-47e5-8f1f-52a3e3c25cd1",
   "metadata": {},
   "outputs": [
    {
     "ename": "NameError",
     "evalue": "name 'car' is not defined",
     "output_type": "error",
     "traceback": [
      "\u001b[0;31m---------------------------------------------------------------------------\u001b[0m",
      "\u001b[0;31mNameError\u001b[0m                                 Traceback (most recent call last)",
      "Cell \u001b[0;32mIn[21], line 1\u001b[0m\n\u001b[0;32m----> 1\u001b[0m v \u001b[38;5;241m=\u001b[39m \u001b[43mcar\u001b[49m(\u001b[38;5;124m\"\u001b[39m\u001b[38;5;124malto\u001b[39m\u001b[38;5;124m\"\u001b[39m , \u001b[38;5;124m\"\u001b[39m\u001b[38;5;124mone hour\u001b[39m\u001b[38;5;124m\"\u001b[39m)\n",
      "\u001b[0;31mNameError\u001b[0m: name 'car' is not defined"
     ]
    }
   ],
   "source": [
    "v = car(\"alto\" , \"one hour\")"
   ]
  },
  {
   "cell_type": "code",
   "execution_count": null,
   "id": "0c522c70-e91d-4b8b-97f7-8f502e2361e5",
   "metadata": {},
   "outputs": [],
   "source": []
  },
  {
   "cell_type": "markdown",
   "id": "4d3aa612-f57d-40a7-a044-7aef3d4d9d57",
   "metadata": {},
   "source": [
    "Q3. What is multiple inheritance? Write a python code to demonstrate multiple inheritance.\n",
    "\n",
    "Ans.When a class is derived from more than one base class it is called multiple Inheritance. \n",
    "Multiple inheritance is a feature of some object-oriented computer programming languages in which an object or class can inherit features from more than one parent object or parent class. It is distinct from single inheritance, where an object or class may only inherit from one particular object or class.\n"
   ]
  },
  {
   "cell_type": "code",
   "execution_count": 22,
   "id": "d60bcd79-18fb-486e-a578-1bf6b23e8dbc",
   "metadata": {},
   "outputs": [
    {
     "name": "stdout",
     "output_type": "stream",
     "text": [
      "Mammals can give direct birth.\n",
      "Winged animals can flap.\n"
     ]
    }
   ],
   "source": [
    "class Mammal:\n",
    "    def mammal_info(self):\n",
    "        print(\"Mammals can give direct birth.\")\n",
    "\n",
    "class WingedAnimal:\n",
    "    def winged_animal_info(self):\n",
    "        print(\"Winged animals can flap.\")\n",
    "\n",
    "class Bat(Mammal, WingedAnimal):\n",
    "    pass\n",
    "\n",
    "# create an object of Bat class\n",
    "b1 = Bat()\n",
    "\n",
    "b1.mammal_info()\n",
    "b1.winged_animal_info()\n"
   ]
  },
  {
   "cell_type": "code",
   "execution_count": null,
   "id": "7a10cd7f-0d08-47f2-8c6e-eae80d4b8fd5",
   "metadata": {},
   "outputs": [],
   "source": []
  },
  {
   "cell_type": "markdown",
   "id": "66d9476d-4b7b-4a57-8a37-52b63f08291b",
   "metadata": {},
   "source": [
    "Q4. What are getter and setter in python? Create a class and create a getter and a setter method in this\n",
    "class.\n",
    "\n",
    "Ans. Getters: These are the methods used in Object-Oriented Programming (OOPS) which helps to access the private attributes from a class. \n",
    "\n",
    "Setters: These are the methods used in OOPS feature which helps to set the value to private attributes in a class."
   ]
  },
  {
   "cell_type": "code",
   "execution_count": 23,
   "id": "62864380-ab7f-4fad-976a-2b85df3a9b32",
   "metadata": {},
   "outputs": [
    {
     "name": "stdout",
     "output_type": "stream",
     "text": [
      "37\n",
      "98.60000000000001\n"
     ]
    }
   ],
   "source": [
    "class Celsius:\n",
    "    def __init__(self, temperature=0):\n",
    "        self.temperature = temperature\n",
    "\n",
    "    def to_fahrenheit(self):\n",
    "        return (self.temperature * 1.8) + 32\n",
    "\n",
    "\n",
    "# Create a new object\n",
    "human = Celsius()\n",
    "\n",
    "# Set the temperature\n",
    "human.temperature = 37\n",
    "\n",
    "# Get the temperature attribute\n",
    "print(human.temperature)\n",
    "\n",
    "# Get the to_fahrenheit method\n",
    "print(human.to_fahrenheit())"
   ]
  },
  {
   "cell_type": "code",
   "execution_count": null,
   "id": "dd856707-ae38-450f-b215-4772d5a2cc85",
   "metadata": {},
   "outputs": [],
   "source": []
  },
  {
   "cell_type": "markdown",
   "id": "6b5ab888-6ecd-47a9-8105-0a586b79afb2",
   "metadata": {},
   "source": [
    "Q5.What is method overriding in python? Write a python code to demonstrate method overriding.\n",
    "\n",
    "Ans. Method overriding in Python is when you have two methods with the same name that each perform different tasks. This is an important feature of inheritance in Python. In method overriding, the child class can change its functions that are defined by its ancestral classes."
   ]
  },
  {
   "cell_type": "code",
   "execution_count": 24,
   "id": "68e29e71-8e5e-4703-9bfd-4187447169fa",
   "metadata": {},
   "outputs": [
    {
     "name": "stdout",
     "output_type": "stream",
     "text": [
      "Inside Parent\n",
      "Inside Child\n"
     ]
    }
   ],
   "source": [
    "class Parent():\n",
    "      \n",
    "    # Constructor\n",
    "    def __init__(self):\n",
    "        self.value = \"Inside Parent\"\n",
    "          \n",
    "    # Parent's show method\n",
    "    def show(self):\n",
    "        print(self.value)\n",
    "          \n",
    "# Defining child class\n",
    "class Child(Parent):\n",
    "      \n",
    "    # Constructor\n",
    "    def __init__(self):\n",
    "        self.value = \"Inside Child\"\n",
    "          \n",
    "    # Child's show method\n",
    "    def show(self):\n",
    "        print(self.value)\n",
    "          \n",
    "          \n",
    "# Driver's code\n",
    "obj1 = Parent()\n",
    "obj2 = Child()\n",
    "  \n",
    "obj1.show()\n",
    "obj2.show()"
   ]
  },
  {
   "cell_type": "code",
   "execution_count": null,
   "id": "defa15a3-b4c5-4e76-a65c-b20b5eac8eb0",
   "metadata": {},
   "outputs": [],
   "source": []
  }
 ],
 "metadata": {
  "kernelspec": {
   "display_name": "Python 3 (ipykernel)",
   "language": "python",
   "name": "python3"
  },
  "language_info": {
   "codemirror_mode": {
    "name": "ipython",
    "version": 3
   },
   "file_extension": ".py",
   "mimetype": "text/x-python",
   "name": "python",
   "nbconvert_exporter": "python",
   "pygments_lexer": "ipython3",
   "version": "3.10.8"
  }
 },
 "nbformat": 4,
 "nbformat_minor": 5
}
